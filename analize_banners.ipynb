{
 "cells": [
  {
   "cell_type": "markdown",
   "source": [
    "Импорты и функции"
   ],
   "metadata": {
    "collapsed": false
   },
   "id": "58f47bde12f429cf"
  },
  {
   "cell_type": "code",
   "execution_count": 2,
   "outputs": [],
   "source": [
    "from google.oauth2.credentials import Credentials\n",
    "from google.auth.transport.requests import Request\n",
    "from google_auth_oauthlib.flow import InstalledAppFlow\n",
    "from googleapiclient.discovery import build\n",
    "from googleapiclient.errors import HttpError\n",
    "from googleapiclient.http import MediaIoBaseDownload\n",
    "\n",
    "import numpy as np\n",
    "import pandas as pd\n",
    "import re\n",
    "import os\n",
    "import shutil\n",
    "import io"
   ],
   "metadata": {
    "collapsed": false,
    "ExecuteTime": {
     "end_time": "2023-08-06T19:05:29.130136300Z",
     "start_time": "2023-08-06T19:05:28.348301400Z"
    }
   },
   "id": "initial_id"
  },
  {
   "cell_type": "code",
   "execution_count": 3,
   "outputs": [],
   "source": [
    "SAMPLE_SPREADSHEET_ID = '17ptHXllAQiqFhMTlWInauMA7vwwuKPY6DMfMnBGUfik'\n",
    "SAMPLE_RANGE_NAME = 'A:D'\n",
    "SCOPES = ['https://www.googleapis.com/auth/spreadsheets.readonly']\n",
    "\n",
    "def parse_banners(spreadsheet_id=SAMPLE_SPREADSHEET_ID, spreadsheet_range=SAMPLE_RANGE_NAME):\n",
    "    creds = None\n",
    "\n",
    "    if os.path.exists('tokens/token.json'):\n",
    "        creds = Credentials.from_authorized_user_file('tokens/token.json', SCOPES)\n",
    "    if not creds or not creds.valid:\n",
    "        if creds and creds.expired and creds.refresh_token:\n",
    "            creds.refresh(Request())\n",
    "        else:\n",
    "            flow = InstalledAppFlow.from_client_secrets_file(\n",
    "                'tokens/credentials.json', SCOPES)\n",
    "            creds = flow.run_local_server(port=0)\n",
    "        with open('tokens/token.json', 'w') as token:\n",
    "            token.write(creds.to_json())\n",
    "\n",
    "    try:\n",
    "        service = build('sheets', 'v4', credentials=creds)\n",
    "\n",
    "        # Call the Sheets API\n",
    "        sheet = service.spreadsheets()\n",
    "        result = sheet.values().get(spreadsheetId=SAMPLE_SPREADSHEET_ID,\n",
    "                                    range=SAMPLE_RANGE_NAME).execute()\n",
    "        values = result.get('values', [])\n",
    "\n",
    "        return values\n",
    "\n",
    "    except HttpError as err:\n",
    "        print(err)\n",
    "        return []"
   ],
   "metadata": {
    "collapsed": false,
    "ExecuteTime": {
     "end_time": "2023-08-06T19:05:29.150518300Z",
     "start_time": "2023-08-06T19:05:29.142139500Z"
    }
   },
   "id": "fb26c3c07e96943b"
  },
  {
   "cell_type": "markdown",
   "source": [
    "Импорт инфы по всем банерам и её аугментация"
   ],
   "metadata": {
    "collapsed": false
   },
   "id": "a8719bbefaf1b6fd"
  },
  {
   "cell_type": "code",
   "execution_count": 3,
   "outputs": [
    {
     "data": {
      "text/plain": "0       Врачи               Бренд Название файла баннера     CTR\n1   Терапевты     Диклофенак-Акос                  0.png  0.0107\n2   Терапевты            Дексонал                  1.png  0.0034\n3    Педиатры  Необутин, Максилак                  2.png  0.0065\n4  Фармацевты            Дексонал                  3.png  0.0052\n5  Фармацевты             Венарус                  4.png  0.0028\n6  Фармацевты            Необутин                  5.png  0.0131\n7  Фармацевты            Максилак                  6.png  0.0039",
      "text/html": "<div>\n<style scoped>\n    .dataframe tbody tr th:only-of-type {\n        vertical-align: middle;\n    }\n\n    .dataframe tbody tr th {\n        vertical-align: top;\n    }\n\n    .dataframe thead th {\n        text-align: right;\n    }\n</style>\n<table border=\"1\" class=\"dataframe\">\n  <thead>\n    <tr style=\"text-align: right;\">\n      <th></th>\n      <th>Врачи</th>\n      <th>Бренд</th>\n      <th>Название файла баннера</th>\n      <th>CTR</th>\n    </tr>\n  </thead>\n  <tbody>\n    <tr>\n      <th>1</th>\n      <td>Терапевты</td>\n      <td>Диклофенак-Акос</td>\n      <td>0.png</td>\n      <td>0.0107</td>\n    </tr>\n    <tr>\n      <th>2</th>\n      <td>Терапевты</td>\n      <td>Дексонал</td>\n      <td>1.png</td>\n      <td>0.0034</td>\n    </tr>\n    <tr>\n      <th>3</th>\n      <td>Педиатры</td>\n      <td>Необутин, Максилак</td>\n      <td>2.png</td>\n      <td>0.0065</td>\n    </tr>\n    <tr>\n      <th>4</th>\n      <td>Фармацевты</td>\n      <td>Дексонал</td>\n      <td>3.png</td>\n      <td>0.0052</td>\n    </tr>\n    <tr>\n      <th>5</th>\n      <td>Фармацевты</td>\n      <td>Венарус</td>\n      <td>4.png</td>\n      <td>0.0028</td>\n    </tr>\n    <tr>\n      <th>6</th>\n      <td>Фармацевты</td>\n      <td>Необутин</td>\n      <td>5.png</td>\n      <td>0.0131</td>\n    </tr>\n    <tr>\n      <th>7</th>\n      <td>Фармацевты</td>\n      <td>Максилак</td>\n      <td>6.png</td>\n      <td>0.0039</td>\n    </tr>\n  </tbody>\n</table>\n</div>"
     },
     "execution_count": 3,
     "metadata": {},
     "output_type": "execute_result"
    }
   ],
   "source": [
    "raw_data = pd.DataFrame(parse_banners())\n",
    "\n",
    "raw_data.columns = raw_data.iloc[0]\n",
    "raw_data = raw_data.drop(raw_data.index[0])\n",
    "\n",
    "raw_data['Врачи'] = raw_data['Врачи'].replace('', method='ffill')\n",
    "\n",
    "raw_data['CTR'] = raw_data['CTR'].str.replace('%', '').str.replace(',', '.')\n",
    "raw_data['CTR'] = raw_data['CTR'].astype(float) / 100\n",
    "\n",
    "raw_data"
   ],
   "metadata": {
    "collapsed": false,
    "ExecuteTime": {
     "end_time": "2023-08-06T18:53:51.092261300Z",
     "start_time": "2023-08-06T18:53:49.490869300Z"
    }
   },
   "id": "308f514fb1ace35d"
  },
  {
   "cell_type": "code",
   "execution_count": 6,
   "outputs": [
    {
     "data": {
      "text/plain": "Количество символов в заголовке                      -0.548528\nКоличество символов в инфографике                    -0.696267\nДоля инфографики на баннере                          -0.437939\nДоля изображения продукта на баннере                 -0.279405\nДоля изображения человека на баннере                  0.604810\nАнимация                                             -0.001600\nОднотонность                                         -0.019239\nУказание фармакологического действия в инфографике   -0.170890\nУказание преимуществ в инфорграфике                  -0.344647\nУказание типа препарата в инфографике                -0.001600\ndtype: float64"
     },
     "execution_count": 6,
     "metadata": {},
     "output_type": "execute_result"
    }
   ],
   "source": [
    "df = pd.read_csv('csv/banners_info.csv')\n",
    "\n",
    "df.drop([\"CTR\", \"Врачи\", \"Бренд\", \"Ссылка на исходники\"], axis=1).apply(lambda x: x.corr(df.CTR))"
   ],
   "metadata": {
    "collapsed": false,
    "ExecuteTime": {
     "end_time": "2023-08-06T19:07:13.484280800Z",
     "start_time": "2023-08-06T19:07:13.424124400Z"
    }
   },
   "id": "dd273fbd155a6a6d"
  }
 ],
 "metadata": {
  "kernelspec": {
   "display_name": "Python 3",
   "language": "python",
   "name": "python3"
  },
  "language_info": {
   "codemirror_mode": {
    "name": "ipython",
    "version": 2
   },
   "file_extension": ".py",
   "mimetype": "text/x-python",
   "name": "python",
   "nbconvert_exporter": "python",
   "pygments_lexer": "ipython2",
   "version": "2.7.6"
  }
 },
 "nbformat": 4,
 "nbformat_minor": 5
}
