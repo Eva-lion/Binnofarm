{
 "cells": [
  {
   "cell_type": "code",
   "execution_count": 1,
   "id": "16437e6f",
   "metadata": {},
   "outputs": [],
   "source": [
    "import sys\n",
    "sys.path.insert(0, 'C://Users//Adminn//Downloads')\n",
    "import random\n",
    "import math\n",
    "from glob import glob\n",
    "from tqdm import tqdm\n",
    "from pprint import pprint\n",
    "from time import time\n",
    "import datetime as dtime\n",
    "from datetime import datetime\n",
    "import itertools\n",
    "import warnings\n",
    "import pandas as pd\n",
    "import numpy as np\n",
    "from scipy.stats import norm\n",
    "import scipy.stats as stats\n",
    "import seaborn as sns\n",
    "import matplotlib.pyplot as plt\n",
    "from statsmodels. stats.multicomp import pairwise_tukeyhsd\n",
    "import json\n",
    "from collections import Counter\n",
    "%matplotlib inline\n",
    "import warnings\n",
    "warnings.filterwarnings(\"ignore\")"
   ]
  },
  {
   "cell_type": "code",
   "execution_count": 2,
   "id": "e910a46e",
   "metadata": {},
   "outputs": [],
   "source": [
    "data = pd.read_csv('data_test.csv')"
   ]
  },
  {
   "cell_type": "code",
   "execution_count": 3,
   "id": "c3ad622d",
   "metadata": {},
   "outputs": [
    {
     "name": "stdout",
     "output_type": "stream",
     "text": [
      "<class 'pandas.core.frame.DataFrame'>\n",
      "RangeIndex: 92061 entries, 0 to 92060\n",
      "Data columns (total 6 columns):\n",
      " #   Column         Non-Null Count  Dtype \n",
      "---  ------         --------------  ----- \n",
      " 0   platform       92061 non-null  object\n",
      " 1   campaign_id    92061 non-null  int64 \n",
      " 2   campaign_name  92061 non-null  object\n",
      " 3   date           92061 non-null  object\n",
      " 4   impressions    92061 non-null  int64 \n",
      " 5   clicks         92061 non-null  int64 \n",
      "dtypes: int64(3), object(3)\n",
      "memory usage: 4.2+ MB\n"
     ]
    }
   ],
   "source": [
    "data.info()"
   ]
  },
  {
   "cell_type": "code",
   "execution_count": 4,
   "id": "739b484b",
   "metadata": {},
   "outputs": [],
   "source": [
    "data.date = pd.to_datetime(data.date)"
   ]
  },
  {
   "cell_type": "code",
   "execution_count": 8,
   "id": "11a8b63f",
   "metadata": {},
   "outputs": [
    {
     "data": {
      "text/html": [
       "<div>\n",
       "<style scoped>\n",
       "    .dataframe tbody tr th:only-of-type {\n",
       "        vertical-align: middle;\n",
       "    }\n",
       "\n",
       "    .dataframe tbody tr th {\n",
       "        vertical-align: top;\n",
       "    }\n",
       "\n",
       "    .dataframe thead th {\n",
       "        text-align: right;\n",
       "    }\n",
       "</style>\n",
       "<table border=\"1\" class=\"dataframe\">\n",
       "  <thead>\n",
       "    <tr style=\"text-align: right;\">\n",
       "      <th></th>\n",
       "      <th>platform</th>\n",
       "      <th>campaign_id</th>\n",
       "      <th>campaign_name</th>\n",
       "      <th>date</th>\n",
       "      <th>impressions</th>\n",
       "      <th>clicks</th>\n",
       "    </tr>\n",
       "  </thead>\n",
       "  <tbody>\n",
       "    <tr>\n",
       "      <th>0</th>\n",
       "      <td>yandex direct</td>\n",
       "      <td>75993195</td>\n",
       "      <td>Венарус | Фармацевты | Баннеры | База Брефи</td>\n",
       "      <td>2023-04-23</td>\n",
       "      <td>35423</td>\n",
       "      <td>109</td>\n",
       "    </tr>\n",
       "    <tr>\n",
       "      <th>1</th>\n",
       "      <td>yandex direct</td>\n",
       "      <td>79820654</td>\n",
       "      <td>Дексонал | Фармацевты | Баннеры | База Брефи</td>\n",
       "      <td>2023-04-23</td>\n",
       "      <td>13654</td>\n",
       "      <td>159</td>\n",
       "    </tr>\n",
       "    <tr>\n",
       "      <th>2</th>\n",
       "      <td>yandex direct</td>\n",
       "      <td>82468420</td>\n",
       "      <td>Венарус | Фармацевты | Баннеры | База БФГ</td>\n",
       "      <td>2023-04-23</td>\n",
       "      <td>20100</td>\n",
       "      <td>58</td>\n",
       "    </tr>\n",
       "    <tr>\n",
       "      <th>3</th>\n",
       "      <td>yandex direct</td>\n",
       "      <td>82469257</td>\n",
       "      <td>Дексонал | Фармацевты | Баннеры | База БФГ</td>\n",
       "      <td>2023-04-23</td>\n",
       "      <td>3459</td>\n",
       "      <td>31</td>\n",
       "    </tr>\n",
       "    <tr>\n",
       "      <th>4</th>\n",
       "      <td>yandex direct</td>\n",
       "      <td>84389757</td>\n",
       "      <td>ВА036 | Венарус, Венапрокт | Хирурги, проктоло...</td>\n",
       "      <td>2023-04-23</td>\n",
       "      <td>4061</td>\n",
       "      <td>29</td>\n",
       "    </tr>\n",
       "    <tr>\n",
       "      <th>...</th>\n",
       "      <td>...</td>\n",
       "      <td>...</td>\n",
       "      <td>...</td>\n",
       "      <td>...</td>\n",
       "      <td>...</td>\n",
       "      <td>...</td>\n",
       "    </tr>\n",
       "    <tr>\n",
       "      <th>91922</th>\n",
       "      <td>my target</td>\n",
       "      <td>56531009</td>\n",
       "      <td>diclofenac-akos_mt_cpc_multiformat_base_neurol...</td>\n",
       "      <td>2022-07-31</td>\n",
       "      <td>741</td>\n",
       "      <td>6</td>\n",
       "    </tr>\n",
       "    <tr>\n",
       "      <th>91936</th>\n",
       "      <td>my target</td>\n",
       "      <td>58007934</td>\n",
       "      <td>venarus_angiorus_mt_cpc_multiformat_base_pharm...</td>\n",
       "      <td>2022-07-31</td>\n",
       "      <td>962</td>\n",
       "      <td>4</td>\n",
       "    </tr>\n",
       "    <tr>\n",
       "      <th>91937</th>\n",
       "      <td>my target</td>\n",
       "      <td>58008074</td>\n",
       "      <td>venarus_angiorus_mt_cpc_multiformat_base_pharm...</td>\n",
       "      <td>2022-07-31</td>\n",
       "      <td>175</td>\n",
       "      <td>1</td>\n",
       "    </tr>\n",
       "    <tr>\n",
       "      <th>91938</th>\n",
       "      <td>my target</td>\n",
       "      <td>58008562</td>\n",
       "      <td>venarus_angiorus_mt_cpm_carousel_base_pharmacy...</td>\n",
       "      <td>2022-07-31</td>\n",
       "      <td>21167</td>\n",
       "      <td>27</td>\n",
       "    </tr>\n",
       "    <tr>\n",
       "      <th>91939</th>\n",
       "      <td>my target</td>\n",
       "      <td>58008732</td>\n",
       "      <td>venarus_angiorus_mt_cpm_carousel_base_pharmacy...</td>\n",
       "      <td>2022-07-31</td>\n",
       "      <td>18175</td>\n",
       "      <td>19</td>\n",
       "    </tr>\n",
       "  </tbody>\n",
       "</table>\n",
       "<p>9501 rows × 6 columns</p>\n",
       "</div>"
      ],
      "text/plain": [
       "            platform  campaign_id  \\\n",
       "0      yandex direct     75993195   \n",
       "1      yandex direct     79820654   \n",
       "2      yandex direct     82468420   \n",
       "3      yandex direct     82469257   \n",
       "4      yandex direct     84389757   \n",
       "...              ...          ...   \n",
       "91922      my target     56531009   \n",
       "91936      my target     58007934   \n",
       "91937      my target     58008074   \n",
       "91938      my target     58008562   \n",
       "91939      my target     58008732   \n",
       "\n",
       "                                           campaign_name       date  \\\n",
       "0            Венарус | Фармацевты | Баннеры | База Брефи 2023-04-23   \n",
       "1           Дексонал | Фармацевты | Баннеры | База Брефи 2023-04-23   \n",
       "2              Венарус | Фармацевты | Баннеры | База БФГ 2023-04-23   \n",
       "3             Дексонал | Фармацевты | Баннеры | База БФГ 2023-04-23   \n",
       "4      ВА036 | Венарус, Венапрокт | Хирурги, проктоло... 2023-04-23   \n",
       "...                                                  ...        ...   \n",
       "91922  diclofenac-akos_mt_cpc_multiformat_base_neurol... 2022-07-31   \n",
       "91936  venarus_angiorus_mt_cpc_multiformat_base_pharm... 2022-07-31   \n",
       "91937  venarus_angiorus_mt_cpc_multiformat_base_pharm... 2022-07-31   \n",
       "91938  venarus_angiorus_mt_cpm_carousel_base_pharmacy... 2022-07-31   \n",
       "91939  venarus_angiorus_mt_cpm_carousel_base_pharmacy... 2022-07-31   \n",
       "\n",
       "       impressions  clicks  \n",
       "0            35423     109  \n",
       "1            13654     159  \n",
       "2            20100      58  \n",
       "3             3459      31  \n",
       "4             4061      29  \n",
       "...            ...     ...  \n",
       "91922          741       6  \n",
       "91936          962       4  \n",
       "91937          175       1  \n",
       "91938        21167      27  \n",
       "91939        18175      19  \n",
       "\n",
       "[9501 rows x 6 columns]"
      ]
     },
     "execution_count": 8,
     "metadata": {},
     "output_type": "execute_result"
    }
   ],
   "source": [
    "data[data['impressions']>0] # Строк, которые имеют хоть один показ, всего 9500 из 91000. Предлагаю сразу работать только с ними\n",
    "# пока."
   ]
  },
  {
   "cell_type": "code",
   "execution_count": 9,
   "id": "74a7b639",
   "metadata": {},
   "outputs": [],
   "source": [
    "data = data[data['impressions']>0]"
   ]
  },
  {
   "cell_type": "code",
   "execution_count": 10,
   "id": "f51dd773",
   "metadata": {},
   "outputs": [
    {
     "data": {
      "text/html": [
       "<div>\n",
       "<style scoped>\n",
       "    .dataframe tbody tr th:only-of-type {\n",
       "        vertical-align: middle;\n",
       "    }\n",
       "\n",
       "    .dataframe tbody tr th {\n",
       "        vertical-align: top;\n",
       "    }\n",
       "\n",
       "    .dataframe thead th {\n",
       "        text-align: right;\n",
       "    }\n",
       "</style>\n",
       "<table border=\"1\" class=\"dataframe\">\n",
       "  <thead>\n",
       "    <tr style=\"text-align: right;\">\n",
       "      <th></th>\n",
       "      <th>platform</th>\n",
       "      <th>campaign_id</th>\n",
       "      <th>campaign_name</th>\n",
       "      <th>date</th>\n",
       "      <th>impressions</th>\n",
       "      <th>clicks</th>\n",
       "    </tr>\n",
       "  </thead>\n",
       "  <tbody>\n",
       "    <tr>\n",
       "      <th>10501</th>\n",
       "      <td>yandex direct</td>\n",
       "      <td>79820654</td>\n",
       "      <td>Дексонал | Фармацевты | Баннеры | База Брефи</td>\n",
       "      <td>2023-01-03</td>\n",
       "      <td>8307</td>\n",
       "      <td>41</td>\n",
       "    </tr>\n",
       "    <tr>\n",
       "      <th>12312</th>\n",
       "      <td>yandex direct</td>\n",
       "      <td>79820654</td>\n",
       "      <td>Дексонал | Фармацевты | Баннеры | База Брефи</td>\n",
       "      <td>2023-01-04</td>\n",
       "      <td>16549</td>\n",
       "      <td>117</td>\n",
       "    </tr>\n",
       "    <tr>\n",
       "      <th>13969</th>\n",
       "      <td>yandex direct</td>\n",
       "      <td>79820654</td>\n",
       "      <td>Дексонал | Фармацевты | Баннеры | База Брефи</td>\n",
       "      <td>2023-01-05</td>\n",
       "      <td>12160</td>\n",
       "      <td>71</td>\n",
       "    </tr>\n",
       "    <tr>\n",
       "      <th>15602</th>\n",
       "      <td>yandex direct</td>\n",
       "      <td>79820654</td>\n",
       "      <td>Дексонал | Фармацевты | Баннеры | База Брефи</td>\n",
       "      <td>2023-01-06</td>\n",
       "      <td>2572</td>\n",
       "      <td>29</td>\n",
       "    </tr>\n",
       "    <tr>\n",
       "      <th>17088</th>\n",
       "      <td>yandex direct</td>\n",
       "      <td>79820654</td>\n",
       "      <td>Дексонал | Фармацевты | Баннеры | База Брефи</td>\n",
       "      <td>2023-01-07</td>\n",
       "      <td>30750</td>\n",
       "      <td>163</td>\n",
       "    </tr>\n",
       "    <tr>\n",
       "      <th>...</th>\n",
       "      <td>...</td>\n",
       "      <td>...</td>\n",
       "      <td>...</td>\n",
       "      <td>...</td>\n",
       "      <td>...</td>\n",
       "      <td>...</td>\n",
       "    </tr>\n",
       "    <tr>\n",
       "      <th>55218</th>\n",
       "      <td>yandex direct</td>\n",
       "      <td>79820654</td>\n",
       "      <td>Дексонал | Фармацевты | Баннеры | База Брефи</td>\n",
       "      <td>2023-07-22</td>\n",
       "      <td>30634</td>\n",
       "      <td>175</td>\n",
       "    </tr>\n",
       "    <tr>\n",
       "      <th>56842</th>\n",
       "      <td>yandex direct</td>\n",
       "      <td>79820654</td>\n",
       "      <td>Дексонал | Фармацевты | Баннеры | База Брефи</td>\n",
       "      <td>2023-07-23</td>\n",
       "      <td>36650</td>\n",
       "      <td>280</td>\n",
       "    </tr>\n",
       "    <tr>\n",
       "      <th>58608</th>\n",
       "      <td>yandex direct</td>\n",
       "      <td>79820654</td>\n",
       "      <td>Дексонал | Фармацевты | Баннеры | База Брефи</td>\n",
       "      <td>2023-07-24</td>\n",
       "      <td>60323</td>\n",
       "      <td>289</td>\n",
       "    </tr>\n",
       "    <tr>\n",
       "      <th>59909</th>\n",
       "      <td>yandex direct</td>\n",
       "      <td>79820654</td>\n",
       "      <td>Дексонал | Фармацевты | Баннеры | База Брефи</td>\n",
       "      <td>2023-07-25</td>\n",
       "      <td>27464</td>\n",
       "      <td>219</td>\n",
       "    </tr>\n",
       "    <tr>\n",
       "      <th>61369</th>\n",
       "      <td>yandex direct</td>\n",
       "      <td>79820654</td>\n",
       "      <td>Дексонал | Фармацевты | Баннеры | База Брефи</td>\n",
       "      <td>2023-07-26</td>\n",
       "      <td>15596</td>\n",
       "      <td>119</td>\n",
       "    </tr>\n",
       "  </tbody>\n",
       "</table>\n",
       "<p>123 rows × 6 columns</p>\n",
       "</div>"
      ],
      "text/plain": [
       "            platform  campaign_id  \\\n",
       "10501  yandex direct     79820654   \n",
       "12312  yandex direct     79820654   \n",
       "13969  yandex direct     79820654   \n",
       "15602  yandex direct     79820654   \n",
       "17088  yandex direct     79820654   \n",
       "...              ...          ...   \n",
       "55218  yandex direct     79820654   \n",
       "56842  yandex direct     79820654   \n",
       "58608  yandex direct     79820654   \n",
       "59909  yandex direct     79820654   \n",
       "61369  yandex direct     79820654   \n",
       "\n",
       "                                      campaign_name       date  impressions  \\\n",
       "10501  Дексонал | Фармацевты | Баннеры | База Брефи 2023-01-03         8307   \n",
       "12312  Дексонал | Фармацевты | Баннеры | База Брефи 2023-01-04        16549   \n",
       "13969  Дексонал | Фармацевты | Баннеры | База Брефи 2023-01-05        12160   \n",
       "15602  Дексонал | Фармацевты | Баннеры | База Брефи 2023-01-06         2572   \n",
       "17088  Дексонал | Фармацевты | Баннеры | База Брефи 2023-01-07        30750   \n",
       "...                                             ...        ...          ...   \n",
       "55218  Дексонал | Фармацевты | Баннеры | База Брефи 2023-07-22        30634   \n",
       "56842  Дексонал | Фармацевты | Баннеры | База Брефи 2023-07-23        36650   \n",
       "58608  Дексонал | Фармацевты | Баннеры | База Брефи 2023-07-24        60323   \n",
       "59909  Дексонал | Фармацевты | Баннеры | База Брефи 2023-07-25        27464   \n",
       "61369  Дексонал | Фармацевты | Баннеры | База Брефи 2023-07-26        15596   \n",
       "\n",
       "       clicks  \n",
       "10501      41  \n",
       "12312     117  \n",
       "13969      71  \n",
       "15602      29  \n",
       "17088     163  \n",
       "...       ...  \n",
       "55218     175  \n",
       "56842     280  \n",
       "58608     289  \n",
       "59909     219  \n",
       "61369     119  \n",
       "\n",
       "[123 rows x 6 columns]"
      ]
     },
     "execution_count": 10,
     "metadata": {},
     "output_type": "execute_result"
    }
   ],
   "source": [
    "data[data['campaign_name']=='Дексонал | Фармацевты | Баннеры | База Брефи'].sort_values(by='date')"
   ]
  },
  {
   "cell_type": "code",
   "execution_count": 11,
   "id": "3c70e987",
   "metadata": {},
   "outputs": [
    {
     "data": {
      "text/plain": [
       "my target        4957\n",
       "yandex direct    4544\n",
       "Name: platform, dtype: int64"
      ]
     },
     "execution_count": 11,
     "metadata": {},
     "output_type": "execute_result"
    }
   ],
   "source": [
    "data.platform.value_counts() # Две платформы, я так понимаю это с которых собирались данные. Сразу вопрос, в campaign_name\n",
    "# есть обозначения \"База Брефи\", \"База ФРГ\", либо они отсутствуют. Как мы можем взаимодействовать с этой информацией?\n",
    "# Необходимо ли нам обособлять их, выделять и делать на ставку на каких-то конкретных?"
   ]
  },
  {
   "cell_type": "code",
   "execution_count": 13,
   "id": "88131479",
   "metadata": {},
   "outputs": [
    {
     "data": {
      "text/plain": [
       "249"
      ]
     },
     "execution_count": 13,
     "metadata": {},
     "output_type": "execute_result"
    }
   ],
   "source": [
    "data.campaign_name.nunique() # Я пока не считал, сколько именно там разных лекарств, но ясны две вещи:\n",
    "# - Данные абсолютно не причесаны, есть одни и те же значения на русском и англ, надо будет обработать\n",
    "# - Лекарств так или иначе больше тех семи, что указаны в таблице."
   ]
  },
  {
   "cell_type": "code",
   "execution_count": 27,
   "id": "3f312c54",
   "metadata": {},
   "outputs": [
    {
     "data": {
      "text/plain": [
       "61396     1\n",
       "42273     1\n",
       "42264     1\n",
       "46064     1\n",
       "46060     1\n",
       "         ..\n",
       "17951    24\n",
       "2779     24\n",
       "2778     24\n",
       "36726    25\n",
       "87542    25\n",
       "Name: impressions, Length: 250, dtype: int64"
      ]
     },
     "execution_count": 27,
     "metadata": {},
     "output_type": "execute_result"
    }
   ],
   "source": [
    "data.sort_values(by='date').impressions.nsmallest(250) #Мне не нравится, что в данных есть куча строк с малым количестом показов\n",
    "# Нужно будет подумать о том, чтобы обрубить их по какому-то порогу, хотя бы ~10-20, либо взять только те, где есть хоть 1 клик"
   ]
  },
  {
   "cell_type": "code",
   "execution_count": 34,
   "id": "05c7114a",
   "metadata": {},
   "outputs": [],
   "source": [
    "data['click_rate'] = data.clicks/data.impressions"
   ]
  },
  {
   "cell_type": "code",
   "execution_count": 35,
   "id": "1c2e4f95",
   "metadata": {},
   "outputs": [
    {
     "data": {
      "text/plain": [
       "<AxesSubplot:xlabel='date', ylabel='click_rate'>"
      ]
     },
     "execution_count": 35,
     "metadata": {},
     "output_type": "execute_result"
    },
    {
     "data": {
      "image/png": "[encoded data removed]",
      "text/plain": [
       "<Figure size 640x480 with 1 Axes>"
      ]
     },
     "metadata": {},
     "output_type": "display_data"
    }
   ],
   "source": [
    "sns.scatterplot(data=data[data['campaign_name']=='Дексонал | Фармацевты | Баннеры | База Брефи'].sort_values(by='date'), x ='date',y='click_rate')\n",
    "# График клик рейта с течением времени честно говоря выглядит странно. У меня пока нет гипотез объяснить такое распределение,\n",
    "# поэтому на qa я обязательно собираюсь спросить про то, как данные вообще показываются, как на данный момент выбираются те\n",
    "# лекарства, которые будут показываться на этой неделе. "
   ]
  },
  {
   "cell_type": "code",
   "execution_count": 23,
   "id": "26b78573",
   "metadata": {},
   "outputs": [
    {
     "data": {
      "text/plain": [
       "<AxesSubplot:xlabel='date', ylabel='impressions'>"
      ]
     },
     "execution_count": 23,
     "metadata": {},
     "output_type": "execute_result"
    },
    {
     "data": {
      "image/png": "[encoded data removed]",
      "text/plain": [
       "<Figure size 640x480 with 1 Axes>"
      ]
     },
     "metadata": {},
     "output_type": "display_data"
    }
   ],
   "source": [
    "sns.scatterplot(data=data[data['campaign_name']=='Дексонал | Фармацевты | Баннеры | База Брефи'].sort_values(by='date'), x ='date',y='impressions')"
   ]
  },
  {
   "cell_type": "code",
   "execution_count": 42,
   "id": "b1a2b9f0",
   "metadata": {},
   "outputs": [],
   "source": [
    "top_camp = data.groupby('campaign_name').impressions.sum().sort_values().head(14).index\n",
    "data_red = data[data.campaign_name.isin(top_camp)]"
   ]
  },
  {
   "cell_type": "code",
   "execution_count": 37,
   "id": "3baba9aa",
   "metadata": {},
   "outputs": [],
   "source": [
    "#data_red.groupby('campaign_name',as_index=False).apply(lambda x: (x['clicks'] / x['impressions']).sum()).rename({None : 'click_rate'},axis=1).sort_values(by='click_rate',ascending = False).head(20)"
   ]
  },
  {
   "cell_type": "code",
   "execution_count": 39,
   "id": "ba149626",
   "metadata": {},
   "outputs": [],
   "source": [
    "#data_red[data_red['campaign_name']=='dexonal | carousel | base_pharmacy_bfg'].impressions.sum()"
   ]
  },
  {
   "cell_type": "code",
   "execution_count": 40,
   "id": "eec07986",
   "metadata": {},
   "outputs": [
    {
     "data": {
      "text/plain": [
       "campaign_name\n",
       "kagocel_kipferon | squarevideo | base_pediatricians_bfg                            0\n",
       "КЯ029 | Необутин, Максилак | Педиатры | Баннеры gif | База БФГ                     0\n",
       "ВА027 | Биннофарм_Венарус, Дексонал | Хирурги | Баннер на памятку | с 14.12        0\n",
       "kagocel_kipferon | carousel | base_pediatricians_bfg                               0\n",
       "КЯ029 | Необутин, Максилак | Педиатры | Баннеры gif | База Breffi                  0\n",
       "                                                                               ...  \n",
       "Венарус | Фармацевты | База Брефи                                               5623\n",
       "Дексонал | Фармацевты | База Брефи                                              6942\n",
       "Венарус | Фармацевты | Баннеры | База Брефи                                     7330\n",
       "Дексонал | Фармацевты | Баннеры | База БФГ                                      7532\n",
       "Дексонал | Фармацевты | Баннеры | База Брефи                                   18079\n",
       "Name: clicks, Length: 249, dtype: int64"
      ]
     },
     "execution_count": 40,
     "metadata": {},
     "output_type": "execute_result"
    }
   ],
   "source": [
    "data.groupby('campaign_name').clicks.sum().sort_values()"
   ]
  },
  {
   "cell_type": "code",
   "execution_count": 43,
   "id": "b89f73b7",
   "metadata": {},
   "outputs": [
    {
     "data": {
      "text/html": [
       "<div>\n",
       "<style scoped>\n",
       "    .dataframe tbody tr th:only-of-type {\n",
       "        vertical-align: middle;\n",
       "    }\n",
       "\n",
       "    .dataframe tbody tr th {\n",
       "        vertical-align: top;\n",
       "    }\n",
       "\n",
       "    .dataframe thead th {\n",
       "        text-align: right;\n",
       "    }\n",
       "</style>\n",
       "<table border=\"1\" class=\"dataframe\">\n",
       "  <thead>\n",
       "    <tr style=\"text-align: right;\">\n",
       "      <th></th>\n",
       "      <th>platform</th>\n",
       "      <th>campaign_id</th>\n",
       "      <th>campaign_name</th>\n",
       "      <th>date</th>\n",
       "      <th>impressions</th>\n",
       "      <th>clicks</th>\n",
       "      <th>click_rate</th>\n",
       "    </tr>\n",
       "  </thead>\n",
       "  <tbody>\n",
       "    <tr>\n",
       "      <th>1311</th>\n",
       "      <td>yandex direct</td>\n",
       "      <td>81657672</td>\n",
       "      <td>ВА027 | Биннофарм_Венарус, Дексонал | Хирурги ...</td>\n",
       "      <td>2022-12-22</td>\n",
       "      <td>7</td>\n",
       "      <td>0</td>\n",
       "      <td>0.000000</td>\n",
       "    </tr>\n",
       "    <tr>\n",
       "      <th>20681</th>\n",
       "      <td>yandex direct</td>\n",
       "      <td>80017980</td>\n",
       "      <td>Дексонал | Хирурги | Доп видео</td>\n",
       "      <td>2022-11-22</td>\n",
       "      <td>39</td>\n",
       "      <td>0</td>\n",
       "      <td>0.000000</td>\n",
       "    </tr>\n",
       "    <tr>\n",
       "      <th>22482</th>\n",
       "      <td>yandex direct</td>\n",
       "      <td>80017980</td>\n",
       "      <td>Дексонал | Хирурги | Доп видео</td>\n",
       "      <td>2022-11-23</td>\n",
       "      <td>56</td>\n",
       "      <td>0</td>\n",
       "      <td>0.000000</td>\n",
       "    </tr>\n",
       "    <tr>\n",
       "      <th>24179</th>\n",
       "      <td>yandex direct</td>\n",
       "      <td>80017980</td>\n",
       "      <td>Дексонал | Хирурги | Доп видео</td>\n",
       "      <td>2022-11-24</td>\n",
       "      <td>48</td>\n",
       "      <td>0</td>\n",
       "      <td>0.000000</td>\n",
       "    </tr>\n",
       "    <tr>\n",
       "      <th>26140</th>\n",
       "      <td>yandex direct</td>\n",
       "      <td>80017980</td>\n",
       "      <td>Дексонал | Хирурги | Доп видео</td>\n",
       "      <td>2022-11-25</td>\n",
       "      <td>24</td>\n",
       "      <td>0</td>\n",
       "      <td>0.000000</td>\n",
       "    </tr>\n",
       "    <tr>\n",
       "      <th>...</th>\n",
       "      <td>...</td>\n",
       "      <td>...</td>\n",
       "      <td>...</td>\n",
       "      <td>...</td>\n",
       "      <td>...</td>\n",
       "      <td>...</td>\n",
       "      <td>...</td>\n",
       "    </tr>\n",
       "    <tr>\n",
       "      <th>65402</th>\n",
       "      <td>yandex direct</td>\n",
       "      <td>80017980</td>\n",
       "      <td>Дексонал | Хирурги | Доп видео</td>\n",
       "      <td>2022-11-04</td>\n",
       "      <td>128</td>\n",
       "      <td>0</td>\n",
       "      <td>0.000000</td>\n",
       "    </tr>\n",
       "    <tr>\n",
       "      <th>65719</th>\n",
       "      <td>yandex direct</td>\n",
       "      <td>80017980</td>\n",
       "      <td>Дексонал | Хирурги | Доп видео</td>\n",
       "      <td>2022-11-05</td>\n",
       "      <td>132</td>\n",
       "      <td>0</td>\n",
       "      <td>0.000000</td>\n",
       "    </tr>\n",
       "    <tr>\n",
       "      <th>65882</th>\n",
       "      <td>yandex direct</td>\n",
       "      <td>80017980</td>\n",
       "      <td>Дексонал | Хирурги | Доп видео</td>\n",
       "      <td>2022-11-06</td>\n",
       "      <td>108</td>\n",
       "      <td>0</td>\n",
       "      <td>0.000000</td>\n",
       "    </tr>\n",
       "    <tr>\n",
       "      <th>87547</th>\n",
       "      <td>my target</td>\n",
       "      <td>72850704</td>\n",
       "      <td>elmucin | video | base_pharmacy_brefi</td>\n",
       "      <td>2023-03-01</td>\n",
       "      <td>1205</td>\n",
       "      <td>2</td>\n",
       "      <td>0.001660</td>\n",
       "    </tr>\n",
       "    <tr>\n",
       "      <th>87548</th>\n",
       "      <td>my target</td>\n",
       "      <td>72850837</td>\n",
       "      <td>elmucin | video | base_pharmacy_bfg</td>\n",
       "      <td>2023-03-01</td>\n",
       "      <td>1229</td>\n",
       "      <td>3</td>\n",
       "      <td>0.002441</td>\n",
       "    </tr>\n",
       "  </tbody>\n",
       "</table>\n",
       "<p>63 rows × 7 columns</p>\n",
       "</div>"
      ],
      "text/plain": [
       "            platform  campaign_id  \\\n",
       "1311   yandex direct     81657672   \n",
       "20681  yandex direct     80017980   \n",
       "22482  yandex direct     80017980   \n",
       "24179  yandex direct     80017980   \n",
       "26140  yandex direct     80017980   \n",
       "...              ...          ...   \n",
       "65402  yandex direct     80017980   \n",
       "65719  yandex direct     80017980   \n",
       "65882  yandex direct     80017980   \n",
       "87547      my target     72850704   \n",
       "87548      my target     72850837   \n",
       "\n",
       "                                           campaign_name       date  \\\n",
       "1311   ВА027 | Биннофарм_Венарус, Дексонал | Хирурги ... 2022-12-22   \n",
       "20681                     Дексонал | Хирурги | Доп видео 2022-11-22   \n",
       "22482                     Дексонал | Хирурги | Доп видео 2022-11-23   \n",
       "24179                     Дексонал | Хирурги | Доп видео 2022-11-24   \n",
       "26140                     Дексонал | Хирурги | Доп видео 2022-11-25   \n",
       "...                                                  ...        ...   \n",
       "65402                     Дексонал | Хирурги | Доп видео 2022-11-04   \n",
       "65719                     Дексонал | Хирурги | Доп видео 2022-11-05   \n",
       "65882                     Дексонал | Хирурги | Доп видео 2022-11-06   \n",
       "87547              elmucin | video | base_pharmacy_brefi 2023-03-01   \n",
       "87548                elmucin | video | base_pharmacy_bfg 2023-03-01   \n",
       "\n",
       "       impressions  clicks  click_rate  \n",
       "1311             7       0    0.000000  \n",
       "20681           39       0    0.000000  \n",
       "22482           56       0    0.000000  \n",
       "24179           48       0    0.000000  \n",
       "26140           24       0    0.000000  \n",
       "...            ...     ...         ...  \n",
       "65402          128       0    0.000000  \n",
       "65719          132       0    0.000000  \n",
       "65882          108       0    0.000000  \n",
       "87547         1205       2    0.001660  \n",
       "87548         1229       3    0.002441  \n",
       "\n",
       "[63 rows x 7 columns]"
      ]
     },
     "execution_count": 43,
     "metadata": {},
     "output_type": "execute_result"
    }
   ],
   "source": [
    "data_red"
   ]
  },
  {
   "cell_type": "code",
   "execution_count": 46,
   "id": "bb3526ca",
   "metadata": {},
   "outputs": [
    {
     "data": {
      "text/plain": [
       "campaign_name\n",
       "Дексонал | Фармацевты | Баннеры | База Брефи                     3740032\n",
       "Венарус | Фармацевты | Баннеры | База Брефи                      3414255\n",
       "Диклофенак-Акос | Фармацевты | Баннеры | База Брефи              2147941\n",
       "Венарус | Фармацевты | База Брефи                                2005968\n",
       "Венарус | Фармацевты | Баннеры | База БФГ                        1727102\n",
       "Дексонал | Фармацевты | База Брефи                               1595350\n",
       "Кагоцел | Фармацевты | Баннеры | База Брефи                      1280233\n",
       "venarus_mt_cpm_gorizontalvideo_base_pharma                       1277689\n",
       "Дексонал | Фармацевты | Баннеры | База БФГ                       1277265\n",
       "venarus | gorizontalvideo | base_pharmacy_brefi                  1262832\n",
       "kagocel | mt_cpm_multiformat_base_pharmacy | с 03.01             1222720\n",
       "Диклофенак-Акос | Фармацевты | Баннеры | База БФГ                1132458\n",
       "Диклофенак-Акос | Фармацевты | База Брефи                         944159\n",
       "Дексонал  | Терапевты | Баннеры | База Брефи                      939086\n",
       "Диклофенак-Акос | Фармацевты | Баннеры | База Breffi              805195\n",
       "venarus | gorizontalvideo | base_pharmacy_bfg                     787909\n",
       "Дексонал  | Терапевты | Баннеры | База БФГ                        763038\n",
       "dexonal | cpm_carousel | base_pharmacy_brefi                      760084\n",
       "Кагоцел, Кипферон | Педиатры | База Брефи                         713116\n",
       "Диклофенак-Акос | Фармацевты | Баннеры | База БФГ | Навражных     676501\n",
       "Name: impressions, dtype: int64"
      ]
     },
     "execution_count": 46,
     "metadata": {},
     "output_type": "execute_result"
    }
   ],
   "source": [
    "data.groupby('campaign_name').impressions.sum().sort_values(ascending=False).head(20)"
   ]
  },
  {
   "cell_type": "code",
   "execution_count": null,
   "id": "83c29b92",
   "metadata": {},
   "outputs": [],
   "source": []
  }
 ],
 "metadata": {
  "kernelspec": {
   "display_name": "Python 3 (ipykernel)",
   "language": "python",
   "name": "python3"
  },
  "language_info": {
   "codemirror_mode": {
    "name": "ipython",
    "version": 3
   },
   "file_extension": ".py",
   "mimetype": "text/x-python",
   "name": "python",
   "nbconvert_exporter": "python",
   "pygments_lexer": "ipython3",
   "version": "3.9.13"
  }
 },
 "nbformat": 4,
 "nbformat_minor": 5
}
