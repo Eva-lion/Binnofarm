{
 "cells": [
  {
   "cell_type": "markdown",
   "source": [
    "Импорты и функции"
   ],
   "metadata": {
    "collapsed": false
   },
   "id": "cfb620ec0677fdef"
  },
  {
   "cell_type": "code",
   "execution_count": 1,
   "outputs": [],
   "source": [
    "from google.oauth2.credentials import Credentials\n",
    "from googleapiclient.discovery import build\n",
    "from googleapiclient.errors import HttpError\n",
    "\n",
    "import pandas as pd"
   ],
   "metadata": {
    "collapsed": false,
    "ExecuteTime": {
     "end_time": "2023-08-05T19:03:12.233878600Z",
     "start_time": "2023-08-05T19:03:12.010293700Z"
    }
   },
   "id": "initial_id"
  },
  {
   "cell_type": "code",
   "execution_count": 11,
   "outputs": [],
   "source": [
    "SCOPES = ['https://www.googleapis.com/auth/spreadsheets.readonly']\n",
    "SAMPLE_SPREADSHEET_ID = '1OTs2ZIRBzX7peVO988fCdIVCE7UE_YK_jQ8VjZvD0ZE'\n",
    "SAMPLE_RANGE_NAME = 'A:F'\n",
    "\n",
    "\n",
    "def parse_banners(spreadsheet_id=SAMPLE_SPREADSHEET_ID, spreadsheet_range=SAMPLE_RANGE_NAME):\n",
    "    creds = Credentials.from_authorized_user_file('token.json', SCOPES)\n",
    "\n",
    "    try:\n",
    "        service = build('sheets', 'v4', credentials=creds)\n",
    "\n",
    "        # Call the Sheets API\n",
    "        sheet = service.spreadsheets()\n",
    "        result = sheet.values().get(spreadsheetId=SAMPLE_SPREADSHEET_ID,\n",
    "                                    range=SAMPLE_RANGE_NAME).execute()\n",
    "        values = result.get('values', [])\n",
    "\n",
    "        return values\n",
    "\n",
    "    except HttpError as err:\n",
    "        print(err)\n",
    "        return []"
   ],
   "metadata": {
    "collapsed": false,
    "ExecuteTime": {
     "end_time": "2023-08-05T19:10:07.328432500Z",
     "start_time": "2023-08-05T19:10:07.303379700Z"
    }
   },
   "id": "fe3380798a1f8865"
  },
  {
   "cell_type": "markdown",
   "source": [
    "Импорт инфы по всем банерам и её аугментация"
   ],
   "metadata": {
    "collapsed": false
   },
   "id": "2febadb23b0cedf6"
  },
  {
   "cell_type": "code",
   "execution_count": 12,
   "outputs": [
    {
     "data": {
      "text/plain": "0       Врачи               Бренд  \\\n1   Терапевты     Диклофенак-Акос   \n2                        Дексонал   \n3    Педиатры  Необутин, Максилак   \n4  Фармацевты            Дексонал   \n5                         Венарус   \n6                        Необутин   \n7                        Максилак   \n\n0                                  Ссылка на креатив Скриншот Баннера    CTR  \\\n1  https://drive.google.com/drive/u/1/folders/1Ke...                   1,07%   \n2  https://drive.google.com/drive/u/1/folders/19C...                   0,34%   \n3  https://drive.google.com/drive/u/1/folders/1hK...                   0,65%   \n4  https://drive.google.com/drive/u/1/folders/19C...                   0,52%   \n5  https://drive.google.com/drive/u/1/folders/1JX...                   0,28%   \n6  https://drive.google.com/drive/u/1/folders/1vV...                   1,31%   \n7  https://drive.google.com/drive/u/1/folders/1eB...                   0,39%   \n\n0 CPC  \n1  30  \n2  32  \n3  22  \n4  10  \n5  26  \n6  22  \n7  27  ",
      "text/html": "<div>\n<style scoped>\n    .dataframe tbody tr th:only-of-type {\n        vertical-align: middle;\n    }\n\n    .dataframe tbody tr th {\n        vertical-align: top;\n    }\n\n    .dataframe thead th {\n        text-align: right;\n    }\n</style>\n<table border=\"1\" class=\"dataframe\">\n  <thead>\n    <tr style=\"text-align: right;\">\n      <th></th>\n      <th>Врачи</th>\n      <th>Бренд</th>\n      <th>Ссылка на креатив</th>\n      <th>Скриншот Баннера</th>\n      <th>CTR</th>\n      <th>CPC</th>\n    </tr>\n  </thead>\n  <tbody>\n    <tr>\n      <th>1</th>\n      <td>Терапевты</td>\n      <td>Диклофенак-Акос</td>\n      <td>https://drive.google.com/drive/u/1/folders/1Ke...</td>\n      <td></td>\n      <td>1,07%</td>\n      <td>30</td>\n    </tr>\n    <tr>\n      <th>2</th>\n      <td></td>\n      <td>Дексонал</td>\n      <td>https://drive.google.com/drive/u/1/folders/19C...</td>\n      <td></td>\n      <td>0,34%</td>\n      <td>32</td>\n    </tr>\n    <tr>\n      <th>3</th>\n      <td>Педиатры</td>\n      <td>Необутин, Максилак</td>\n      <td>https://drive.google.com/drive/u/1/folders/1hK...</td>\n      <td></td>\n      <td>0,65%</td>\n      <td>22</td>\n    </tr>\n    <tr>\n      <th>4</th>\n      <td>Фармацевты</td>\n      <td>Дексонал</td>\n      <td>https://drive.google.com/drive/u/1/folders/19C...</td>\n      <td></td>\n      <td>0,52%</td>\n      <td>10</td>\n    </tr>\n    <tr>\n      <th>5</th>\n      <td></td>\n      <td>Венарус</td>\n      <td>https://drive.google.com/drive/u/1/folders/1JX...</td>\n      <td></td>\n      <td>0,28%</td>\n      <td>26</td>\n    </tr>\n    <tr>\n      <th>6</th>\n      <td></td>\n      <td>Необутин</td>\n      <td>https://drive.google.com/drive/u/1/folders/1vV...</td>\n      <td></td>\n      <td>1,31%</td>\n      <td>22</td>\n    </tr>\n    <tr>\n      <th>7</th>\n      <td></td>\n      <td>Максилак</td>\n      <td>https://drive.google.com/drive/u/1/folders/1eB...</td>\n      <td></td>\n      <td>0,39%</td>\n      <td>27</td>\n    </tr>\n  </tbody>\n</table>\n</div>"
     },
     "execution_count": 12,
     "metadata": {},
     "output_type": "execute_result"
    }
   ],
   "source": [
    "raw_data = pd.DataFrame(parse_banners())\n",
    "raw_data.columns = raw_data.iloc[0]\n",
    "raw_data = raw_data.drop(raw_data.index[0])\n",
    "\n",
    "raw_data"
   ],
   "metadata": {
    "collapsed": false,
    "ExecuteTime": {
     "end_time": "2023-08-05T19:10:11.495232900Z",
     "start_time": "2023-08-05T19:10:10.437093900Z"
    }
   },
   "id": "71ceef336ed412c0"
  }
 ],
 "metadata": {
  "kernelspec": {
   "display_name": "Python 3",
   "language": "python",
   "name": "python3"
  },
  "language_info": {
   "codemirror_mode": {
    "name": "ipython",
    "version": 2
   },
   "file_extension": ".py",
   "mimetype": "text/x-python",
   "name": "python",
   "nbconvert_exporter": "python",
   "pygments_lexer": "ipython2",
   "version": "2.7.6"
  }
 },
 "nbformat": 4,
 "nbformat_minor": 5
}
