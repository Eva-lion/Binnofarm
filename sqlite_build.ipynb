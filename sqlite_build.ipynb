{
 "cells": [
  {
   "cell_type": "code",
   "execution_count": 7,
   "id": "20e15a2e",
   "metadata": {},
   "outputs": [],
   "source": [
    "import sqlite3\n",
    "import csv\n",
    "import pandas as pd"
   ]
  },
  {
   "cell_type": "code",
   "execution_count": 50,
   "id": "fa389cf5",
   "metadata": {},
   "outputs": [],
   "source": [
    "conn = sqlite3.connect('database_click_rate.db') # Create Database\n",
    "cursor = conn.cursor()"
   ]
  },
  {
   "cell_type": "code",
   "execution_count": 51,
   "id": "239153dd",
   "metadata": {},
   "outputs": [
    {
     "data": {
      "text/plain": [
       "<sqlite3.Cursor at 0x296b0b78a40>"
      ]
     },
     "execution_count": 51,
     "metadata": {},
     "output_type": "execute_result"
    }
   ],
   "source": [
    "# Create Campaigns table\n",
    "cursor.execute('''\n",
    "    CREATE TABLE IF NOT EXISTS Campaigns (\n",
    "        campaign_id INTEGER PRIMARY KEY,\n",
    "        campaign_name TEXT UNIQUE,\n",
    "        drug_name TEXT,\n",
    "        medic_group TEXT,\n",
    "        adv_format TEXT\n",
    "    )\n",
    "''')\n",
    "\n",
    "# Create Metrics table\n",
    "cursor.execute('''\n",
    "    CREATE TABLE IF NOT EXISTS Metrics (\n",
    "        metric_id INTEGER PRIMARY KEY AUTOINCREMENT,\n",
    "        campaign_id INTEGER,\n",
    "        date TEXT,\n",
    "        impressions INTEGER,\n",
    "        clicks INTEGER,\n",
    "        click_rate REAL,\n",
    "        campaign_number INTEGER,\n",
    "        trend TEXT,\n",
    "        growth REAL,\n",
    "        FOREIGN KEY (campaign_id) REFERENCES Campaigns(campaign_id)\n",
    "    )\n",
    "''')\n",
    "\n"
   ]
  },
  {
   "cell_type": "code",
   "execution_count": 52,
   "id": "567e8ebb",
   "metadata": {},
   "outputs": [],
   "source": [
    "# Read CSV file\n",
    "with open('click_stats.csv', 'r') as csv_file:\n",
    "    csv_reader = csv.reader(csv_file)\n",
    "    next(csv_reader)  # Skip header\n",
    "    campaign_name_mapping = {}  # To map campaign_name to campaign_id\n",
    "\n",
    "    for row in csv_reader:\n",
    "        campaign_name = row[0]\n",
    "        drug_name = row[5]\n",
    "        medic_group = row[6]\n",
    "        adv_format = row[7]\n",
    "        impressions = (row[2])\n",
    "        clicks = (row[3])\n",
    "        click_rate = (row[4])\n",
    "        campaign_number = (row[8])\n",
    "        trend = row[9]\n",
    "        growth = (row[10])\n",
    "\n",
    "        # Check if campaign_name is already mapped to a campaign_id\n",
    "        if campaign_name not in campaign_name_mapping:\n",
    "            cursor.execute('''\n",
    "                INSERT INTO Campaigns (campaign_name, drug_name, medic_group, adv_format)\n",
    "                VALUES (?, ?, ?, ?)\n",
    "            ''', (campaign_name, drug_name, medic_group, adv_format))\n",
    "            campaign_id = cursor.lastrowid\n",
    "            campaign_name_mapping[campaign_name] = campaign_id\n",
    "        else:\n",
    "            campaign_id = campaign_name_mapping[campaign_name]\n",
    "\n",
    "        cursor.execute('''\n",
    "            INSERT INTO Metrics (campaign_id, date, impressions, clicks, click_rate, campaign_number, trend, growth)\n",
    "            VALUES (?, ?, ?, ?, ?, ?, ?, ?)\n",
    "        ''', (campaign_id, row[1], impressions, clicks, click_rate, campaign_number, trend, growth))"
   ]
  },
  {
   "cell_type": "code",
   "execution_count": 55,
   "id": "3c04f055",
   "metadata": {},
   "outputs": [
    {
     "data": {
      "text/plain": [
       "<sqlite3.Cursor at 0x296b0b78a40>"
      ]
     },
     "execution_count": 55,
     "metadata": {},
     "output_type": "execute_result"
    }
   ],
   "source": [
    "cursor.execute(\"SELECT * FROM Metrics\")\n",
    "metrics_data = cursor.fetchall()\n",
    "for row in metrics_data:\n",
    "    print(row)"
   ]
  },
  {
   "cell_type": "code",
   "execution_count": 57,
   "id": "758a97bb",
   "metadata": {},
   "outputs": [],
   "source": [
    "# Commit changes and close the connection\n",
    "conn.commit()\n",
    "conn.close()"
   ]
  },
  {
   "cell_type": "code",
   "execution_count": null,
   "id": "29c7050b",
   "metadata": {},
   "outputs": [],
   "source": []
  }
 ],
 "metadata": {
  "kernelspec": {
   "display_name": "Python 3 (ipykernel)",
   "language": "python",
   "name": "python3"
  },
  "language_info": {
   "codemirror_mode": {
    "name": "ipython",
    "version": 3
   },
   "file_extension": ".py",
   "mimetype": "text/x-python",
   "name": "python",
   "nbconvert_exporter": "python",
   "pygments_lexer": "ipython3",
   "version": "3.9.13"
  },
  "toc": {
   "base_numbering": 1,
   "nav_menu": {},
   "number_sections": true,
   "sideBar": true,
   "skip_h1_title": false,
   "title_cell": "Table of Contents",
   "title_sidebar": "Contents",
   "toc_cell": false,
   "toc_position": {},
   "toc_section_display": true,
   "toc_window_display": false
  }
 },
 "nbformat": 4,
 "nbformat_minor": 5
}
